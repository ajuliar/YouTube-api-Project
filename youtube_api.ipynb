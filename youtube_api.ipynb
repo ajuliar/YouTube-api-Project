{
 "cells": [
  {
   "cell_type": "code",
   "execution_count": 22,
   "id": "6ff577a6-6107-421c-9639-d8c02b04c32c",
   "metadata": {},
   "outputs": [],
   "source": [
    "from googleapiclient.discovery import build\n",
    "import pandas as pd\n",
    "from IPython.display import JSON"
   ]
  },
  {
   "cell_type": "code",
   "execution_count": 20,
   "id": "cde17bb3-7efb-4fa0-907c-ca6cbf8778b3",
   "metadata": {},
   "outputs": [],
   "source": [
    "api_key=my_key"
   ]
  },
  {
   "cell_type": "code",
   "execution_count": 15,
   "id": "3988a260-f1a4-4553-b06d-e6e3bf9457c5",
   "metadata": {},
   "outputs": [],
   "source": [
    "channel_ids= ['UCU20zn5IueQz8WAfud-oeFw',\n",
    "             'UCuTeq_lWyWwKh5XWbPyZOKw']"
   ]
  },
  {
   "cell_type": "code",
   "execution_count": null,
   "id": "4145373d-f0dd-4c64-8553-a083bf8cca82",
   "metadata": {},
   "outputs": [],
   "source": [
    "api_service_name = \"youtube\"\n",
    "api_version = \"v3\"\n",
    "\n",
    "# Get credentials and create an API client\n",
    "youtube = build(api_service_name, api_version, developerKey=api_key)\n"
   ]
  },
  {
   "cell_type": "code",
   "execution_count": 21,
   "id": "6d3a49b5-90ca-4ca2-ba4d-de2656aa261a",
   "metadata": {},
   "outputs": [
    {
     "data": {
      "application/json": {
       "etag": "OOOmJMWNBwsXzTIKGAEjTWmrDCI",
       "items": [
        {
         "contentDetails": {
          "relatedPlaylists": {
           "likes": "",
           "uploads": "UUuTeq_lWyWwKh5XWbPyZOKw"
          }
         },
         "etag": "QQd3FjMTTxm8C-2cLM3of1optE0",
         "id": "UCuTeq_lWyWwKh5XWbPyZOKw",
         "kind": "youtube#channel",
         "snippet": {
          "country": "BR",
          "customUrl": "@camilaebruna",
          "description": "Somos irmãs, nascidas no interior de São Paulo. Fizemos nosso primeiro intercâmbio durante o high school e não paramos mais. \nO canal Camila e Bruna é uma extensão do blog de viagens  que criamos em 2015: Must Share Br. \nA ideia principal do site é dar informações sobre tudo que possa facilitar a vida de pessoas que passarão ou estejam passando pelas mesmas situações que nós. Nós compartilhamos nossas experiências de viagens e aprendizados que levamos para a vida.\n\nVisitem nosso site e redes sociais:\nhttp://mustsharebr.com/sobre/must-share/ (mais sobre nós)\nhttp://www.instagram.com/mustsharebr\nhttp://www.facebook.com/mustsharebr\n\nInstagrams:\nhttps://www.instagram.com/brunapfaria\nhttp://www.instagram.com/milafaria",
          "localized": {
           "description": "Somos irmãs, nascidas no interior de São Paulo. Fizemos nosso primeiro intercâmbio durante o high school e não paramos mais. \nO canal Camila e Bruna é uma extensão do blog de viagens  que criamos em 2015: Must Share Br. \nA ideia principal do site é dar informações sobre tudo que possa facilitar a vida de pessoas que passarão ou estejam passando pelas mesmas situações que nós. Nós compartilhamos nossas experiências de viagens e aprendizados que levamos para a vida.\n\nVisitem nosso site e redes sociais:\nhttp://mustsharebr.com/sobre/must-share/ (mais sobre nós)\nhttp://www.instagram.com/mustsharebr\nhttp://www.facebook.com/mustsharebr\n\nInstagrams:\nhttps://www.instagram.com/brunapfaria\nhttp://www.instagram.com/milafaria",
           "title": "Camila e Bruna"
          },
          "publishedAt": "2015-04-24T22:49:20Z",
          "thumbnails": {
           "default": {
            "height": 88,
            "url": "https://yt3.ggpht.com/ytc/AIf8zZQIGA0nXTjyw041sS441Y6HkM-LqjV8py_IO9xAHQ=s88-c-k-c0x00ffffff-no-rj",
            "width": 88
           },
           "high": {
            "height": 800,
            "url": "https://yt3.ggpht.com/ytc/AIf8zZQIGA0nXTjyw041sS441Y6HkM-LqjV8py_IO9xAHQ=s800-c-k-c0x00ffffff-no-rj",
            "width": 800
           },
           "medium": {
            "height": 240,
            "url": "https://yt3.ggpht.com/ytc/AIf8zZQIGA0nXTjyw041sS441Y6HkM-LqjV8py_IO9xAHQ=s240-c-k-c0x00ffffff-no-rj",
            "width": 240
           }
          },
          "title": "Camila e Bruna"
         },
         "statistics": {
          "hiddenSubscriberCount": false,
          "subscriberCount": "504000",
          "videoCount": "506",
          "viewCount": "58131364"
         }
        },
        {
         "contentDetails": {
          "relatedPlaylists": {
           "likes": "",
           "uploads": "UUU20zn5IueQz8WAfud-oeFw"
          }
         },
         "etag": "_U7Xfq_JmmtNaeIhXBG87nsjWNY",
         "id": "UCU20zn5IueQz8WAfud-oeFw",
         "kind": "youtube#channel",
         "snippet": {
          "country": "BR",
          "customUrl": "@jaquelineguerreirooficial",
          "description": "Nas quartas usamos rosa e as quintas são misteriosas.\n\nOi bonitas e bonitos, tudo bom com vocês?\nAqui você vai encontrar vídeos sobre basicamente tudo que eu gosto. Nas quintas eu falo sobre crimes que aconteceram em todo o mundo. Você também vai encontrar alguns vlogs sobre a minha vida e as viagens que eu faço. \n\nCONTATO PROFISSIONAL:  contato@jaquelineguerreiro.com\n\n► ► ►  Minha loja ◄ ◄ ◄ \nhttps://www.thursday.com.br/\n\nSE INSCREVA! https://goo.gl/kvo4Sz\nhttps://www.instagram.com/jaquelineguerreiro\nhttps://www.tiktok.com/jaquelineguerreiro\nhttps://www.facebook.com/JacGuerreiro/\nhttps://www.Twitter.com/jaccguerreiro",
          "localized": {
           "description": "Nas quartas usamos rosa e as quintas são misteriosas.\n\nOi bonitas e bonitos, tudo bom com vocês?\nAqui você vai encontrar vídeos sobre basicamente tudo que eu gosto. Nas quintas eu falo sobre crimes que aconteceram em todo o mundo. Você também vai encontrar alguns vlogs sobre a minha vida e as viagens que eu faço. \n\nCONTATO PROFISSIONAL:  contato@jaquelineguerreiro.com\n\n► ► ►  Minha loja ◄ ◄ ◄ \nhttps://www.thursday.com.br/\n\nSE INSCREVA! https://goo.gl/kvo4Sz\nhttps://www.instagram.com/jaquelineguerreiro\nhttps://www.tiktok.com/jaquelineguerreiro\nhttps://www.facebook.com/JacGuerreiro/\nhttps://www.Twitter.com/jaccguerreiro",
           "title": "Jaqueline Guerreiro"
          },
          "publishedAt": "2011-03-11T01:05:45Z",
          "thumbnails": {
           "default": {
            "height": 88,
            "url": "https://yt3.ggpht.com/ytc/AIf8zZQOTc-WVLXp1qavc1brQPVLhaYpmnIrxxE3iZen=s88-c-k-c0x00ffffff-no-rj",
            "width": 88
           },
           "high": {
            "height": 800,
            "url": "https://yt3.ggpht.com/ytc/AIf8zZQOTc-WVLXp1qavc1brQPVLhaYpmnIrxxE3iZen=s800-c-k-c0x00ffffff-no-rj",
            "width": 800
           },
           "medium": {
            "height": 240,
            "url": "https://yt3.ggpht.com/ytc/AIf8zZQOTc-WVLXp1qavc1brQPVLhaYpmnIrxxE3iZen=s240-c-k-c0x00ffffff-no-rj",
            "width": 240
           }
          },
          "title": "Jaqueline Guerreiro"
         },
         "statistics": {
          "hiddenSubscriberCount": false,
          "subscriberCount": "3670000",
          "videoCount": "480",
          "viewCount": "492789497"
         }
        }
       ],
       "kind": "youtube#channelListResponse",
       "pageInfo": {
        "resultsPerPage": 5,
        "totalResults": 2
       }
      },
      "text/plain": [
       "<IPython.core.display.JSON object>"
      ]
     },
     "execution_count": 21,
     "metadata": {
      "application/json": {
       "expanded": false,
       "root": "root"
      }
     },
     "output_type": "execute_result"
    }
   ],
   "source": [
    "def get_channel_stats(youtube, channel_ids):\n",
    "    all_data = []\n",
    "    request = youtube.channels().list(\n",
    "        part=\"snippet,contentDetails,statistics\", \n",
    "        id=','.join(channel_ids)\n",
    "    )\n",
    "    response = request.execute()\n",
    "\n",
    "    #loop through items\n",
    "    for item in response['items']:\n",
    "        data = {'channelName': item['snippet']['title'],\n",
    "                'subscri\n",
    "    \n",
    "    JSON(response)"
   ]
  },
  {
   "cell_type": "code",
   "execution_count": null,
   "id": "5e25c0e6-5a04-47d4-b57c-7d792d38d84b",
   "metadata": {},
   "outputs": [],
   "source": []
  }
 ],
 "metadata": {
  "kernelspec": {
   "display_name": "Python 3 (ipykernel)",
   "language": "python",
   "name": "python3"
  },
  "language_info": {
   "codemirror_mode": {
    "name": "ipython",
    "version": 3
   },
   "file_extension": ".py",
   "mimetype": "text/x-python",
   "name": "python",
   "nbconvert_exporter": "python",
   "pygments_lexer": "ipython3",
   "version": "3.9.6"
  }
 },
 "nbformat": 4,
 "nbformat_minor": 5
}
